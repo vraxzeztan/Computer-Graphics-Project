{
 "cells": [
  {
   "cell_type": "markdown",
   "metadata": {
    "colab_type": "text",
    "id": "IMMRJwyzhXn0"
   },
   "source": [
    "##  Load our Dataset"
   ]
  },
  {
   "cell_type": "code",
   "execution_count": 1,
   "metadata": {
    "colab": {
     "base_uri": "https://localhost:8080/",
     "height": 50
    },
    "colab_type": "code",
    "id": "52XO1eOshCGG",
    "outputId": "492fa962-ecf2-4a58-8d61-103b73c77356"
   },
   "outputs": [
    {
     "name": "stderr",
     "output_type": "stream",
     "text": [
      "Using TensorFlow backend.\n"
     ]
    },
    {
     "name": "stdout",
     "output_type": "stream",
     "text": [
      "(60000, 28, 28) (60000,) (10000, 28, 28) (10000,)\n"
     ]
    }
   ],
   "source": [
    "from keras.datasets import mnist\n",
    "(x_train,y_train),(x_test,y_test) = mnist.load_data()\n",
    "print(x_train.shape , y_train.shape, x_test.shape,y_test.shape)"
   ]
  },
  {
   "cell_type": "markdown",
   "metadata": {
    "colab_type": "text",
    "id": "5CJi4hJcis0M"
   },
   "source": [
    "## Lets see some images"
   ]
  },
  {
   "cell_type": "code",
   "execution_count": 2,
   "metadata": {
    "colab": {
     "base_uri": "https://localhost:8080/",
     "height": 208
    },
    "colab_type": "code",
    "id": "n64W65pBhzAJ",
    "outputId": "f0cd840f-6330-4833-9854-76592f0c90db"
   },
   "outputs": [
    {
     "data": {
      "text/plain": [
       "<matplotlib.image.AxesImage at 0x7f269e6b6908>"
      ]
     },
     "execution_count": 2,
     "metadata": {
      "tags": []
     },
     "output_type": "execute_result"
    },
    {
     "data": {
      "image/png": "[encoded data removed]",
      "text/plain": [
       "<Figure size 432x288 with 6 Axes>"
      ]
     },
     "metadata": {
      "tags": []
     },
     "output_type": "display_data"
    }
   ],
   "source": [
    "import matplotlib.pyplot as plt\n",
    "import numpy as np\n",
    "plt.subplot(331)\n",
    "num = np.random.randint(0,len(x_train))\n",
    "plt.imshow(x_train[num],cmap = plt.get_cmap('gray'))\n",
    "\n",
    "plt.subplot(332)\n",
    "num = np.random.randint(0,len(x_train))\n",
    "plt.imshow(x_train[num],cmap = plt.get_cmap('gray'))\n",
    "\n",
    "plt.subplot(333)\n",
    "num = np.random.randint(0,len(x_train))\n",
    "plt.imshow(x_train[num],cmap = plt.get_cmap('gray'))\n",
    "\n",
    "plt.subplot(334)\n",
    "num = np.random.randint(0,len(x_train))\n",
    "plt.imshow(x_train[num],cmap = plt.get_cmap('gray'))\n",
    "\n",
    "plt.subplot(335)\n",
    "num = np.random.randint(0,len(x_train))\n",
    "plt.imshow(x_train[num],cmap = plt.get_cmap('gray'))\n",
    "\n",
    "plt.subplot(336)\n",
    "num = np.random.randint(0,len(x_train))\n",
    "plt.imshow(x_train[num],cmap = plt.get_cmap('gray'))"
   ]
  },
  {
   "cell_type": "markdown",
   "metadata": {
    "colab_type": "text",
    "id": "zNdBBFuPqjTN"
   },
   "source": [
    "## Reshape and normalizing the data"
   ]
  },
  {
   "cell_type": "code",
   "execution_count": 3,
   "metadata": {
    "colab": {
     "base_uri": "https://localhost:8080/",
     "height": 33
    },
    "colab_type": "code",
    "id": "61H06QypkYsI",
    "outputId": "b5e6a705-c22c-490d-d9a6-25f27282de28"
   },
   "outputs": [
    {
     "name": "stdout",
     "output_type": "stream",
     "text": [
      "(60000, 28, 28, 1)\n"
     ]
    }
   ],
   "source": [
    "# Reshape the data\n",
    "x_train = x_train.reshape(x_train.shape[0], x_train.shape[1], x_train.shape[2], 1)\n",
    "x_test = x_test.reshape(x_test.shape[0], x_train.shape[1], x_train.shape[2], 1)\n",
    "# Normalise the data\n",
    "x_train = x_train.astype('float32')\n",
    "x_test = x_test.astype('float32')\n",
    "x_train/255.0\n",
    "x_test/255.0\n",
    "print(x_train.shape)"
   ]
  },
  {
   "cell_type": "markdown",
   "metadata": {
    "colab_type": "text",
    "id": "-LYCJLXIq0Zz"
   },
   "source": [
    "## One Hot Encoding labels"
   ]
  },
  {
   "cell_type": "code",
   "execution_count": 0,
   "metadata": {
    "colab": {},
    "colab_type": "code",
    "id": "Me6rs4JvqqVp"
   },
   "outputs": [],
   "source": [
    "from keras.utils import to_categorical\n",
    "y_train = to_categorical(y_train)\n",
    "y_test = to_categorical(y_test)\n",
    "num_classes = y_test[0].shape[0]"
   ]
  },
  {
   "cell_type": "markdown",
   "metadata": {
    "colab_type": "text",
    "id": "idqwO8j9rcNs"
   },
   "source": [
    "## Prepare the Model"
   ]
  },
  {
   "cell_type": "code",
   "execution_count": 7,
   "metadata": {
    "colab": {
     "base_uri": "https://localhost:8080/",
     "height": 391
    },
    "colab_type": "code",
    "id": "I_ZFh0x0rTqy",
    "outputId": "44727def-0052-4c41-ae6e-1cff266363c9"
   },
   "outputs": [
    {
     "name": "stdout",
     "output_type": "stream",
     "text": [
      "_________________________________________________________________\n",
      "Layer (type)                 Output Shape              Param #   \n",
      "=================================================================\n",
      "conv2d_3 (Conv2D)            (None, 24, 24, 32)        832       \n",
      "_________________________________________________________________\n",
      "conv2d_4 (Conv2D)            (None, 21, 21, 64)        32832     \n",
      "_________________________________________________________________\n",
      "max_pooling2d_2 (MaxPooling2 (None, 10, 10, 64)        0         \n",
      "_________________________________________________________________\n",
      "dropout_3 (Dropout)          (None, 10, 10, 64)        0         \n",
      "_________________________________________________________________\n",
      "flatten_2 (Flatten)          (None, 6400)              0         \n",
      "_________________________________________________________________\n",
      "dense_3 (Dense)              (None, 128)               819328    \n",
      "_________________________________________________________________\n",
      "dropout_4 (Dropout)          (None, 128)               0         \n",
      "_________________________________________________________________\n",
      "dense_4 (Dense)              (None, 10)                1290      \n",
      "=================================================================\n",
      "Total params: 854,282\n",
      "Trainable params: 854,282\n",
      "Non-trainable params: 0\n",
      "_________________________________________________________________\n"
     ]
    }
   ],
   "source": [
    "from keras.models import Sequential\n",
    "from keras.layers import Conv2D,MaxPooling2D,Dropout,Flatten,Dense\n",
    "from keras import backend as K\n",
    "model = Sequential()\n",
    "model.add(Conv2D(32,kernel_size=(5,5),\n",
    "                 activation = 'relu',\n",
    "                 input_shape = (x_train[0].shape)))\n",
    "model.add(Conv2D(64,kernel_size=(4,4),activation='relu'))\n",
    "model.add(MaxPooling2D(pool_size=(2,2)))\n",
    "model.add(Dropout(0.25))\n",
    "model.add(Flatten())\n",
    "model.add(Dense(128,activation='relu'))\n",
    "model.add(Dropout(0.5))\n",
    "model.add(Dense(num_classes,activation='softmax'))\n",
    "\n",
    "model.summary()"
   ]
  },
  {
   "cell_type": "code",
   "execution_count": 8,
   "metadata": {
    "colab": {
     "base_uri": "https://localhost:8080/",
     "height": 683
    },
    "colab_type": "code",
    "id": "-49Hfkfyr_GR",
    "outputId": "56bc003f-4b35-4ece-bd16-9a0b590758ab"
   },
   "outputs": [
    {
     "name": "stdout",
     "output_type": "stream",
     "text": [
      "Train on 60000 samples, validate on 10000 samples\n",
      "Epoch 1/20\n",
      "60000/60000 [==============================] - 6s 103us/step - loss: 3.1508 - acc: 0.7520 - val_loss: 0.0671 - val_acc: 0.9793\n",
      "Epoch 2/20\n",
      "60000/60000 [==============================] - 6s 95us/step - loss: 0.1242 - acc: 0.9639 - val_loss: 0.0450 - val_acc: 0.9844\n",
      "Epoch 3/20\n",
      "60000/60000 [==============================] - 6s 96us/step - loss: 0.0858 - acc: 0.9756 - val_loss: 0.0364 - val_acc: 0.9873\n",
      "Epoch 4/20\n",
      "60000/60000 [==============================] - 6s 96us/step - loss: 0.0694 - acc: 0.9789 - val_loss: 0.0350 - val_acc: 0.9871\n",
      "Epoch 5/20\n",
      "60000/60000 [==============================] - 6s 95us/step - loss: 0.0618 - acc: 0.9814 - val_loss: 0.0309 - val_acc: 0.9899\n",
      "Epoch 6/20\n",
      "60000/60000 [==============================] - 6s 96us/step - loss: 0.0560 - acc: 0.9834 - val_loss: 0.0330 - val_acc: 0.9889\n",
      "Epoch 7/20\n",
      "60000/60000 [==============================] - 6s 97us/step - loss: 0.0481 - acc: 0.9860 - val_loss: 0.0301 - val_acc: 0.9903\n",
      "Epoch 8/20\n",
      "60000/60000 [==============================] - 6s 96us/step - loss: 0.0433 - acc: 0.9862 - val_loss: 0.0344 - val_acc: 0.9896\n",
      "Epoch 9/20\n",
      "60000/60000 [==============================] - 6s 95us/step - loss: 0.0425 - acc: 0.9871 - val_loss: 0.0299 - val_acc: 0.9900\n",
      "Epoch 10/20\n",
      "60000/60000 [==============================] - 6s 96us/step - loss: 0.0408 - acc: 0.9874 - val_loss: 0.0321 - val_acc: 0.9902\n",
      "Epoch 11/20\n",
      "60000/60000 [==============================] - 6s 95us/step - loss: 0.0405 - acc: 0.9880 - val_loss: 0.0347 - val_acc: 0.9911\n",
      "Epoch 12/20\n",
      "60000/60000 [==============================] - 6s 94us/step - loss: 0.0369 - acc: 0.9885 - val_loss: 0.0333 - val_acc: 0.9914\n",
      "Epoch 13/20\n",
      "60000/60000 [==============================] - 6s 95us/step - loss: 0.0335 - acc: 0.9897 - val_loss: 0.0264 - val_acc: 0.9922\n",
      "Epoch 14/20\n",
      "60000/60000 [==============================] - 6s 94us/step - loss: 0.0349 - acc: 0.9893 - val_loss: 0.0295 - val_acc: 0.9923\n",
      "Epoch 15/20\n",
      "60000/60000 [==============================] - 6s 95us/step - loss: 0.0311 - acc: 0.9904 - val_loss: 0.0348 - val_acc: 0.9915\n",
      "Epoch 16/20\n",
      "60000/60000 [==============================] - 6s 95us/step - loss: 0.0313 - acc: 0.9908 - val_loss: 0.0356 - val_acc: 0.9900\n",
      "Epoch 17/20\n",
      "60000/60000 [==============================] - 6s 95us/step - loss: 0.0317 - acc: 0.9903 - val_loss: 0.0323 - val_acc: 0.9922\n",
      "Epoch 18/20\n",
      "60000/60000 [==============================] - 6s 95us/step - loss: 0.0306 - acc: 0.9908 - val_loss: 0.0419 - val_acc: 0.9901\n",
      "Epoch 19/20\n",
      "60000/60000 [==============================] - 6s 95us/step - loss: 0.0306 - acc: 0.9910 - val_loss: 0.0379 - val_acc: 0.9910\n",
      "Epoch 20/20\n",
      "60000/60000 [==============================] - 6s 95us/step - loss: 0.0278 - acc: 0.9916 - val_loss: 0.0352 - val_acc: 0.9909\n"
     ]
    }
   ],
   "source": [
    "model.compile(loss = 'categorical_crossentropy',\n",
    "              optimizer = 'adam',\n",
    "              metrics = ['accuracy'])\n",
    "history = model.fit(x_train,\n",
    "                    y_train,\n",
    "                    batch_size = 256,\n",
    "                    epochs = 20,\n",
    "                    verbose = 1,\n",
    "                    validation_data = (x_test, y_test))"
   ]
  },
  {
   "cell_type": "code",
   "execution_count": 9,
   "metadata": {
    "colab": {
     "base_uri": "https://localhost:8080/",
     "height": 33
    },
    "colab_type": "code",
    "id": "AcKsZ9meuj0j",
    "outputId": "c579edbe-b872-422e-b443-d6ebd4b666a8"
   },
   "outputs": [
    {
     "name": "stdout",
     "output_type": "stream",
     "text": [
      "[0.03521678062466626, 0.9909]\n"
     ]
    }
   ],
   "source": [
    "score = model.evaluate(x_test,y_test,verbose=0)\n",
    "print(score)"
   ]
  },
  {
   "cell_type": "markdown",
   "metadata": {
    "colab_type": "text",
    "id": "0i5VhLL2gP9m"
   },
   "source": [
    "## Loss Plot"
   ]
  },
  {
   "cell_type": "code",
   "execution_count": 10,
   "metadata": {
    "colab": {
     "base_uri": "https://localhost:8080/",
     "height": 283
    },
    "colab_type": "code",
    "id": "R69kEPBTx5Bb",
    "outputId": "9c671276-575c-4e65-a765-08b1e6131551"
   },
   "outputs": [
    {
     "data": {
      "image/png": "[encoded data removed]",
      "text/plain": [
       "<Figure size 432x288 with 1 Axes>"
      ]
     },
     "metadata": {
      "tags": []
     },
     "output_type": "display_data"
    }
   ],
   "source": [
    "history_dict = history.history\n",
    "\n",
    "loss_values = history_dict['loss']\n",
    "val_loss_values = history_dict['val_loss']\n",
    "epochs = range(1, len(loss_values) + 1)\n",
    "\n",
    "line1 = plt.plot(epochs, val_loss_values, label='Validation/Test Loss')\n",
    "line2 = plt.plot(epochs, loss_values, label='Training Loss')\n",
    "plt.setp(line1, linewidth=2.0, marker = '+', markersize=10.0)\n",
    "plt.setp(line2, linewidth=2.0, marker = '4', markersize=10.0)\n",
    "plt.xlabel('Epochs') \n",
    "plt.ylabel('Loss')\n",
    "plt.grid(True)\n",
    "plt.legend()\n",
    "plt.show()"
   ]
  },
  {
   "cell_type": "markdown",
   "metadata": {
    "colab_type": "text",
    "id": "BN4DsAd6gMVP"
   },
   "source": [
    "## Accuracy Plot"
   ]
  },
  {
   "cell_type": "code",
   "execution_count": 11,
   "metadata": {
    "colab": {
     "base_uri": "https://localhost:8080/",
     "height": 283
    },
    "colab_type": "code",
    "id": "1dQbr5CYx_kW",
    "outputId": "229186da-52d2-43e3-c766-4eb7e3db9287"
   },
   "outputs": [
    {
     "data": {
      "image/png": "[encoded data removed]",
      "text/plain": [
       "<Figure size 432x288 with 1 Axes>"
      ]
     },
     "metadata": {
      "tags": []
     },
     "output_type": "display_data"
    }
   ],
   "source": [
    "history_dict = history.history\n",
    "\n",
    "acc_values = history_dict['acc']\n",
    "val_acc_values = history_dict['val_acc']\n",
    "epochs = range(1, len(loss_values) + 1)\n",
    "\n",
    "line1 = plt.plot(epochs, val_acc_values, label='Validation/Test Accuracy')\n",
    "line2 = plt.plot(epochs, acc_values, label='Training Accuracy')\n",
    "plt.setp(line1, linewidth=2.0, marker = '+', markersize=10.0)\n",
    "plt.setp(line2, linewidth=2.0, marker = '4', markersize=10.0)\n",
    "plt.xlabel('Epochs') \n",
    "plt.ylabel('Accuracy')\n",
    "plt.grid(True)\n",
    "plt.legend()\n",
    "plt.show()"
   ]
  },
  {
   "cell_type": "markdown",
   "metadata": {
    "colab_type": "text",
    "id": "88aJoWDNgrpE"
   },
   "source": [
    "## Saving the model"
   ]
  },
  {
   "cell_type": "code",
   "execution_count": 12,
   "metadata": {
    "colab": {
     "base_uri": "https://localhost:8080/",
     "height": 33
    },
    "colab_type": "code",
    "id": "5ZBggMZMzjDq",
    "outputId": "e4e23f48-a448-4f0a-8eaf-59d3008d1d20"
   },
   "outputs": [
    {
     "name": "stdout",
     "output_type": "stream",
     "text": [
      "Model Saved\n"
     ]
    }
   ],
   "source": [
    "model.save(\"mnist.h5\")\n",
    "print(\"Model Saved\")"
   ]
  },
  {
   "cell_type": "markdown",
   "metadata": {
    "colab_type": "text",
    "id": "izOCLYh7hAQ_"
   },
   "source": [
    "## Load the model"
   ]
  },
  {
   "cell_type": "code",
   "execution_count": 0,
   "metadata": {
    "colab": {},
    "colab_type": "code",
    "id": "uaRnVvLcg5kY"
   },
   "outputs": [],
   "source": [
    "from keras.models import load_model\n",
    "classifier = load_model('mnist.h5')"
   ]
  },
  {
   "cell_type": "markdown",
   "metadata": {
    "colab_type": "text",
    "id": "NC9TiBrahTvy"
   },
   "source": [
    "## Predicting from model\n",
    "\n",
    "This block of code randomly takes an image predicts its output"
   ]
  },
  {
   "cell_type": "code",
   "execution_count": 15,
   "metadata": {
    "colab": {
     "base_uri": "https://localhost:8080/",
     "height": 401
    },
    "colab_type": "code",
    "id": "0wokSUl5hG8Y",
    "outputId": "871bcbaa-21e0-4631-f3cb-af6d98449ff3"
   },
   "outputs": [
    {
     "name": "stderr",
     "output_type": "stream",
     "text": [
      "W0621 11:34:35.124484 139805072041856 image.py:648] Clipping input data to the valid range for imshow with RGB data ([0..1] for floats or [0..255] for integers).\n",
      "W0621 11:34:35.150349 139805072041856 image.py:648] Clipping input data to the valid range for imshow with RGB data ([0..1] for floats or [0..255] for integers).\n",
      "W0621 11:34:35.181552 139805072041856 image.py:648] Clipping input data to the valid range for imshow with RGB data ([0..1] for floats or [0..255] for integers).\n",
      "W0621 11:34:35.213302 139805072041856 image.py:648] Clipping input data to the valid range for imshow with RGB data ([0..1] for floats or [0..255] for integers).\n",
      "W0621 11:34:35.238146 139805072041856 image.py:648] Clipping input data to the valid range for imshow with RGB data ([0..1] for floats or [0..255] for integers).\n",
      "W0621 11:34:35.262728 139805072041856 image.py:648] Clipping input data to the valid range for imshow with RGB data ([0..1] for floats or [0..255] for integers).\n",
      "W0621 11:34:35.287921 139805072041856 image.py:648] Clipping input data to the valid range for imshow with RGB data ([0..1] for floats or [0..255] for integers).\n",
      "W0621 11:34:35.312319 139805072041856 image.py:648] Clipping input data to the valid range for imshow with RGB data ([0..1] for floats or [0..255] for integers).\n",
      "W0621 11:34:35.337102 139805072041856 image.py:648] Clipping input data to the valid range for imshow with RGB data ([0..1] for floats or [0..255] for integers).\n"
     ]
    },
    {
     "data": {
      "image/png": "[encoded data removed]",
      "text/plain": [
       "<Figure size 432x288 with 9 Axes>"
      ]
     },
     "metadata": {
      "tags": []
     },
     "output_type": "display_data"
    }
   ],
   "source": [
    "import cv2\n",
    "\n",
    "def draw_test(name, pred, input_im,i):\n",
    "    BLACK = [0,0,0]\n",
    "    expanded_image = cv2.copyMakeBorder(input_im, 0, 0, 0, imageL.shape[0] ,cv2.BORDER_CONSTANT,value=BLACK)\n",
    "    expanded_image = cv2.cvtColor(expanded_image, cv2.COLOR_GRAY2BGR)\n",
    "    cv2.putText(expanded_image, str(pred), (152, 70) , cv2.FONT_HERSHEY_COMPLEX_SMALL,4, (0,255,0), 2)\n",
    "    plt.subplot(331+i)\n",
    "    plt.imshow(expanded_image)\n",
    "    plt.imsave(str(i)+\".jpg\",expanded_image)\n",
    "   \n",
    "\n",
    "for i in range(0,9):\n",
    "    rand = np.random.randint(0,len(x_test))\n",
    "    input_im = x_test[rand]\n",
    "\n",
    "    imageL = cv2.resize(input_im, None, fx=4, fy=4, interpolation = cv2.INTER_CUBIC)\n",
    "    input_im = input_im.reshape(1,28,28,1) \n",
    "    \n",
    "    ## Get Prediction\n",
    "    res = str(classifier.predict_classes(input_im, 1, verbose = 0)[0])\n",
    "\n",
    "    draw_test(\"Prediction\", res, imageL,i) \n",
    "    "
   ]
  }
 ],
 "metadata": {
  "accelerator": "GPU",
  "colab": {
   "collapsed_sections": [],
   "name": "MNIST",
   "provenance": [],
   "version": "0.3.2"
  },
  "kernelspec": {
   "display_name": "Python 3",
   "language": "python",
   "name": "python3"
  },
  "language_info": {
   "codemirror_mode": {
    "name": "ipython",
    "version": 3
   },
   "file_extension": ".py",
   "mimetype": "text/x-python",
   "name": "python",
   "nbconvert_exporter": "python",
   "pygments_lexer": "ipython3",
   "version": "3.7.4"
  }
 },
 "nbformat": 4,
 "nbformat_minor": 1
}
